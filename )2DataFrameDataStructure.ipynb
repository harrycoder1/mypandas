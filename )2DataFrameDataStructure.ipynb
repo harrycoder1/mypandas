{
 "cells": [
  {
   "cell_type": "markdown",
   "metadata": {},
   "source": [
    "# DataFrame in Pandas"
   ]
  },
  {
   "cell_type": "code",
   "execution_count": 3,
   "metadata": {},
   "outputs": [
    {
     "name": "stdout",
     "output_type": "stream",
     "text": [
      "   0\n",
      "0  1\n",
      "1  2\n",
      "2  3\n",
      "3  4\n",
      "4  5\n",
      "5  6\n",
      "<class 'pandas.core.frame.DataFrame'>\n"
     ]
    }
   ],
   "source": [
    "import pandas as pd \n",
    "ls = [1,2,3,4,5,6]\n",
    "\n",
    "var = pd.DataFrame(ls)\n",
    "print(var)\n",
    "print(type(var))"
   ]
  },
  {
   "cell_type": "code",
   "execution_count": 17,
   "metadata": {},
   "outputs": [
    {
     "name": "stdout",
     "output_type": "stream",
     "text": [
      "   a  b  r  s\n",
      "q  1  1  1  1\n",
      "w  2  2  2  2\n",
      "f  3  3  3  3\n",
      "v  4  4  4  4\n",
      "b  5  5  5  5\n",
      "4\n"
     ]
    }
   ],
   "source": [
    "dic = {\"a\":[1,2,3,4,5] ,\"b\":[1,2,3,4,5],\"r\":[1,2,3,4,5],\"s\":[1,2,3,4,5]}\n",
    "\n",
    "var = pd.DataFrame(dic ,index=[\"q\",'w','f','v','b'])\n",
    "# var = pd.DataFrame(dic ,columns=[\"a\",\"r\"] ,index=[\"q\",'w','f','v','b'])\n",
    "print(var)\n",
    "print(var['a']['v'])"
   ]
  },
  {
   "cell_type": "code",
   "execution_count": 18,
   "metadata": {},
   "outputs": [
    {
     "name": "stdout",
     "output_type": "stream",
     "text": [
      "    0   1   2   3   4\n",
      "0   1   2   3   4   5\n",
      "1  11  12  13  14  15\n"
     ]
    }
   ],
   "source": [
    "lists = [[1,2,3,4,5],[11,12,13,14,15]]\n",
    "\n",
    "var1 = pd.DataFrame(lists)\n",
    "print(var1)"
   ]
  },
  {
   "cell_type": "code",
   "execution_count": 21,
   "metadata": {},
   "outputs": [
    {
     "name": "stdout",
     "output_type": "stream",
     "text": [
      "{'s': 0    1\n",
      "1    2\n",
      "2    3\n",
      "3    4\n",
      "4    5\n",
      "dtype: int64, 'r': 0    1\n",
      "1    2\n",
      "2    3\n",
      "3    4\n",
      "4    5\n",
      "dtype: int64}\n",
      "   s  r\n",
      "0  1  1\n",
      "1  2  2\n",
      "2  3  3\n",
      "3  4  4\n",
      "4  5  5\n"
     ]
    }
   ],
   "source": [
    "sr = {\"s\":pd.Series([1,2,3,4,5]),\"r\":pd.Series([1,2,3,4,5])}\n",
    "var = pd.DataFrame(sr)\n",
    "print(var)"
   ]
  }
 ],
 "metadata": {
  "kernelspec": {
   "display_name": "Python 3",
   "language": "python",
   "name": "python3"
  },
  "language_info": {
   "codemirror_mode": {
    "name": "ipython",
    "version": 3
   },
   "file_extension": ".py",
   "mimetype": "text/x-python",
   "name": "python",
   "nbconvert_exporter": "python",
   "pygments_lexer": "ipython3",
   "version": "3.10.6"
  },
  "orig_nbformat": 4
 },
 "nbformat": 4,
 "nbformat_minor": 2
}
