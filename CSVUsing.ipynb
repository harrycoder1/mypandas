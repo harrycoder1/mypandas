{
 "cells": [
  {
   "cell_type": "markdown",
   "metadata": {},
   "source": [
    "# CSV File"
   ]
  },
  {
   "cell_type": "code",
   "execution_count": 4,
   "metadata": {},
   "outputs": [
    {
     "name": "stdout",
     "output_type": "stream",
     "text": [
      "   a  b  c  d\n",
      "0  1  1  1  1\n",
      "1  2  2  2  2\n",
      "2  3  3  3  3\n",
      "3  4  4  4  4\n",
      "4  5  5  5  5\n",
      "5  6  6  6  6\n"
     ]
    }
   ],
   "source": [
    "import pandas as pd \n",
    "dis = {'a':[1,2,3,4,5,6] ,'b':[1,2,3,4,5,6] ,'c':[1,2,3,4,5,6] ,'d':[1,2,3,4,5,6]}\n",
    "d= pd.DataFrame(dis)\n",
    "print(d)\n",
    "\n",
    "d.to_csv(\"Test2.csv\" ,index=False,header=[1,2,3,4])\n"
   ]
  }
 ],
 "metadata": {
  "kernelspec": {
   "display_name": "Python 3",
   "language": "python",
   "name": "python3"
  },
  "language_info": {
   "codemirror_mode": {
    "name": "ipython",
    "version": 3
   },
   "file_extension": ".py",
   "mimetype": "text/x-python",
   "name": "python",
   "nbconvert_exporter": "python",
   "pygments_lexer": "ipython3",
   "version": "3.10.6"
  },
  "orig_nbformat": 4
 },
 "nbformat": 4,
 "nbformat_minor": 2
}
