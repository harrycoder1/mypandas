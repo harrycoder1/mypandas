{
 "cells": [
  {
   "cell_type": "markdown",
   "metadata": {
    "notebookRunGroups": {
     "groupValue": ""
    }
   },
   "source": [
    "# Data Structure"
   ]
  },
  {
   "cell_type": "code",
   "execution_count": 10,
   "metadata": {},
   "outputs": [
    {
     "name": "stdout",
     "output_type": "stream",
     "text": [
      "a    2.0\n",
      "s    3.0\n",
      "w    4.0\n",
      "q    4.0\n",
      "o    5.0\n",
      "Name: harry, dtype: float64\n"
     ]
    }
   ],
   "source": [
    "import pandas as pd\n",
    "import numpy as np    \n",
    "\n",
    "vr = np.array([2,3,4,4,5])\n",
    "a= pd.Series(vr, index=['a','s','w','q','o'] ,dtype=\"float\" ,name=\"harry\")\n",
    "print(a)"
   ]
  },
  {
   "cell_type": "code",
   "execution_count": 13,
   "metadata": {},
   "outputs": [
    {
     "name": "stdout",
     "output_type": "stream",
     "text": [
      "name          [python, C, java]\n",
      "popularity         [12, 13, 14]\n",
      "Rank                  [1, 2, 3]\n",
      "dtype: object\n"
     ]
    }
   ],
   "source": [
    "dic = {\"name\":[\"python\" , \"C\" ,\"java\"] ,\"popularity\":[12,13,14] ,\"Rank\" :[1,2,3]}\n",
    "a= pd.Series(dic )\n",
    "print(a)"
   ]
  },
  {
   "cell_type": "code",
   "execution_count": 19,
   "metadata": {},
   "outputs": [
    {
     "name": "stdout",
     "output_type": "stream",
     "text": [
      "1    23.0\n",
      "2    23.0\n",
      "3    23.0\n",
      "4    23.0\n",
      "5     NaN\n",
      "6     NaN\n",
      "7     NaN\n",
      "8     NaN\n",
      "9     NaN\n",
      "dtype: float64\n"
     ]
    }
   ],
   "source": [
    "s= pd.Series(11 ,index=[x for x in range(1 ,10)], name=\"num\")\n",
    "s1 = pd.Series(12,index=[x for x in range(1,5)] ,name=\"num1\")\n",
    "print(s+s1)\n",
    "# print(s)\n",
    "# type(s)"
   ]
  }
 ],
 "metadata": {
  "kernelspec": {
   "display_name": "Python 3",
   "language": "python",
   "name": "python3"
  },
  "language_info": {
   "codemirror_mode": {
    "name": "ipython",
    "version": 3
   },
   "file_extension": ".py",
   "mimetype": "text/x-python",
   "name": "python",
   "nbconvert_exporter": "python",
   "pygments_lexer": "ipython3",
   "version": "3.10.6"
  },
  "orig_nbformat": 4
 },
 "nbformat": 4,
 "nbformat_minor": 2
}
